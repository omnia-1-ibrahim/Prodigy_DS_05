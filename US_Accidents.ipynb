{
 "cells": [
  {
   "cell_type": "code",
   "execution_count": null,
   "id": "d5d515d6",
   "metadata": {},
   "outputs": [],
   "source": [
    "import pandas as pd\n",
    "import numpy as np\n",
    "import seaborn as sns\n",
    "import matplotlib.pyplot as plt"
   ]
  },
  {
   "cell_type": "code",
   "execution_count": null,
   "id": "a3c78c17",
   "metadata": {},
   "outputs": [],
   "source": [
    "file_path = r\"C:\\\\Users\\\\Dell\\\\Downloads\\\\archives\\\\US_Accidents_March23.csv\"\n",
    "\n",
    "df_USA = pd.read_csv(file_path)"
   ]
  },
  {
   "cell_type": "code",
   "execution_count": null,
   "id": "3c8fe46f",
   "metadata": {},
   "outputs": [],
   "source": [
    "df_USA.head()\n"
   ]
  },
  {
   "cell_type": "code",
   "execution_count": null,
   "id": "c49560d6",
   "metadata": {},
   "outputs": [],
   "source": [
    "df_USA.columns\n"
   ]
  },
  {
   "cell_type": "code",
   "execution_count": null,
   "id": "969c144f",
   "metadata": {},
   "outputs": [],
   "source": [
    "df_USA.dtypes.value_counts()\n"
   ]
  },
  {
   "cell_type": "code",
   "execution_count": null,
   "id": "0539d51c",
   "metadata": {},
   "outputs": [],
   "source": [
    "df_USA.shape"
   ]
  },
  {
   "cell_type": "code",
   "execution_count": null,
   "id": "a7aaf943",
   "metadata": {},
   "outputs": [],
   "source": [
    "df_USA.describe()"
   ]
  },
  {
   "cell_type": "code",
   "execution_count": null,
   "id": "59ef3731",
   "metadata": {},
   "outputs": [],
   "source": [
    "df_USA.State.unique\n"
   ]
  },
  {
   "cell_type": "code",
   "execution_count": null,
   "id": "fc664bad",
   "metadata": {},
   "outputs": [],
   "source": [
    "df1=df_USA[df_USA['State']=='CA']\n"
   ]
  },
  {
   "cell_type": "code",
   "execution_count": null,
   "id": "de141fea",
   "metadata": {},
   "outputs": [],
   "source": [
    "df1['IDD'] = df1['ID'].astype('str').str.extractall('(\\d+)').unstack().fillna('').sum(axis=1).astype(int)"
   ]
  },
  {
   "cell_type": "code",
   "execution_count": null,
   "id": "4c427d69",
   "metadata": {},
   "outputs": [],
   "source": [
    "df1"
   ]
  },
  {
   "cell_type": "code",
   "execution_count": null,
   "id": "bfde5890",
   "metadata": {},
   "outputs": [],
   "source": [
    "df1.head()"
   ]
  },
  {
   "cell_type": "code",
   "execution_count": null,
   "id": "9b5011a8",
   "metadata": {},
   "outputs": [],
   "source": [
    "df1.shape\n"
   ]
  },
  {
   "cell_type": "code",
   "execution_count": null,
   "id": "fcb5f45d",
   "metadata": {},
   "outputs": [],
   "source": [
    "df1.columns\n"
   ]
  },
  {
   "cell_type": "code",
   "execution_count": null,
   "id": "9be74abb",
   "metadata": {},
   "outputs": [],
   "source": [
    "df1.duplicated().sum()\n"
   ]
  },
  {
   "cell_type": "code",
   "execution_count": null,
   "id": "8df1693f",
   "metadata": {},
   "outputs": [],
   "source": [
    "d1f=df1.dropna(subset=['Precipitation(in)'])    \n"
   ]
  },
  {
   "cell_type": "code",
   "execution_count": null,
   "id": "47062507",
   "metadata": {},
   "outputs": [],
   "source": [
    "df1.shape"
   ]
  },
  {
   "cell_type": "code",
   "execution_count": null,
   "id": "b5f24012",
   "metadata": {},
   "outputs": [],
   "source": [
    "df1=df1.dropna(subset=['Temperature(F)','Wind_Chill(F)','Humidity(%)','Pressure(in)','Visibility(mi)','Wind_Direction', 'Wind_Speed(mph)',\n",
    "                      'Weather_Condition'])"
   ]
  },
  {
   "cell_type": "code",
   "execution_count": null,
   "id": "76dda7d0",
   "metadata": {},
   "outputs": [],
   "source": [
    "df1.shape"
   ]
  },
  {
   "cell_type": "code",
   "execution_count": null,
   "id": "ea783a36",
   "metadata": {},
   "outputs": [],
   "source": [
    "df1=df1.dropna(subset=['City','Sunrise_Sunset',\n",
    "       'Civil_Twilight', 'Nautical_Twilight', 'Astronomical_Twilight'])"
   ]
  },
  {
   "cell_type": "code",
   "execution_count": null,
   "id": "3bac2699",
   "metadata": {},
   "outputs": [],
   "source": [
    "df1.isna().sum()/len(df1)*100"
   ]
  },
  {
   "cell_type": "code",
   "execution_count": null,
   "id": "b53f7f2f",
   "metadata": {},
   "outputs": [],
   "source": [
    "df1['Weather_Condition'].value_counts()\n"
   ]
  },
  {
   "cell_type": "code",
   "execution_count": null,
   "id": "c0d024d8",
   "metadata": {},
   "outputs": [],
   "source": [
    "df1.Side.unique()\n"
   ]
  },
  {
   "cell_type": "code",
   "execution_count": null,
   "id": "530427ad",
   "metadata": {},
   "outputs": [],
   "source": [
    "df_cat=df1.select_dtypes('object')\n",
    "df_num=df1.select_dtypes(np.number)\n",
    "df_cat=df_cat.drop('ID',axis=1)"
   ]
  },
  {
   "cell_type": "code",
   "execution_count": null,
   "id": "b262246c",
   "metadata": {},
   "outputs": [],
   "source": [
    "df_cat=df1.select_dtypes('object')\n",
    "col_name=[]\n",
    "length=[]\n",
    "\n",
    "for i in df_cat.columns:\n",
    "    col_name.append(i)\n",
    "    length.append(len(df_cat[i].unique()))\n",
    "df_2=pd.DataFrame(zip(col_name,length),columns=['feature','count_of_unique_values'])\n",
    "df_2"
   ]
  },
  {
   "cell_type": "code",
   "execution_count": null,
   "id": "7d41a8a9",
   "metadata": {},
   "outputs": [],
   "source": [
    "df1.drop(['Description','Zipcode','Weather_Timestamp'],axis=1,inplace=True)"
   ]
  },
  {
   "cell_type": "code",
   "execution_count": null,
   "id": "a53305b0",
   "metadata": {},
   "outputs": [],
   "source": [
    "del df1['Airport_Code']"
   ]
  },
  {
   "cell_type": "code",
   "execution_count": null,
   "id": "72401bd8",
   "metadata": {},
   "outputs": [],
   "source": [
    "df_num.columns\n"
   ]
  },
  {
   "cell_type": "code",
   "execution_count": null,
   "id": "37dff551",
   "metadata": {},
   "outputs": [],
   "source": [
    "len(df_num.columns)\n"
   ]
  },
  {
   "cell_type": "code",
   "execution_count": null,
   "id": "710d1592",
   "metadata": {},
   "outputs": [],
   "source": [
    "df_cat.columns\n"
   ]
  },
  {
   "cell_type": "code",
   "execution_count": null,
   "id": "aed80506",
   "metadata": {},
   "outputs": [],
   "source": [
    "len(df['City'].unique())\n"
   ]
  },
  {
   "cell_type": "code",
   "execution_count": null,
   "id": "f2a7929e",
   "metadata": {},
   "outputs": [],
   "source": [
    "df_num=df1.select_dtypes(np.number)\n",
    "col_name=[]\n",
    "length=[]\n",
    "\n",
    "for i in df_num.columns:\n",
    "    col_name.append(i)\n",
    "    length.append(len(df_num[i].unique()))\n",
    "df_2=pd.DataFrame(zip(col_name,length),columns=['feature','count_of_unique_values'])\n",
    "df_2"
   ]
  },
  {
   "cell_type": "code",
   "execution_count": null,
   "id": "3aceb245",
   "metadata": {},
   "outputs": [],
   "source": [
    "plt.figure(figsize=(15 ,9))\n",
    "sns.heatmap(df_num.corr() , annot=True)"
   ]
  },
  {
   "cell_type": "code",
   "execution_count": null,
   "id": "ffeb5e85",
   "metadata": {},
   "outputs": [],
   "source": [
    "cities = df1['City'].unique()\n",
    "len(cities)"
   ]
  },
  {
   "cell_type": "code",
   "execution_count": null,
   "id": "b91837f9",
   "metadata": {},
   "outputs": [],
   "source": [
    "accidents_by_cities = df1['City'].value_counts()\n",
    "accidents_by_cities"
   ]
  },
  {
   "cell_type": "code",
   "execution_count": null,
   "id": "a06dba0b",
   "metadata": {},
   "outputs": [],
   "source": [
    "accidents_by_cities[:10]"
   ]
  },
  {
   "cell_type": "code",
   "execution_count": null,
   "id": "21a9efd2",
   "metadata": {},
   "outputs": [],
   "source": [
    "fig, ax = plt.subplots(figsize=(8,5))\n",
    "accidents_by_cities[:10].plot(kind='bar')\n",
    "ax.set(title = 'Top 10 cities By Number of Accidents',\n",
    "       xlabel = 'Cities',\n",
    "       ylabel = 'Accidents Count')\n",
    "plt.show()"
   ]
  },
  {
   "cell_type": "code",
   "execution_count": null,
   "id": "e51d3022",
   "metadata": {},
   "outputs": [],
   "source": [
    "accidents_severity = df1.groupby('Severity').count()['ID']\n",
    "accidents_severity"
   ]
  },
  {
   "cell_type": "code",
   "execution_count": null,
   "id": "5736784f",
   "metadata": {},
   "outputs": [],
   "source": [
    "fig, ax = plt.subplots(figsize=(8, 6), subplot_kw=dict(aspect=\"equal\"))\n",
    "label = [1,2,3,4]\n",
    "plt.pie(accidents_severity, labels=label,\n",
    "        autopct='%1.1f%%', pctdistance=0.85)\n",
    "circle = plt.Circle( (0,0), 0.5, color='white')\n",
    "p=plt.gcf()\n",
    "p.gca().add_artist(circle)\n",
    "ax.set_title(\"Accident by Severity\",fontdict={'fontsize': 16})\n",
    "plt.tight_layout()\n",
    "plt.show()"
   ]
  },
  {
   "cell_type": "code",
   "execution_count": null,
   "id": "3df4ea9d",
   "metadata": {},
   "outputs": [],
   "source": [
    "df1['Start_Time'].dtypes\n"
   ]
  },
  {
   "cell_type": "code",
   "execution_count": null,
   "id": "9f2f0282",
   "metadata": {},
   "outputs": [],
   "source": [
    "df1['End_Time'].dtypes\n"
   ]
  },
  {
   "cell_type": "code",
   "execution_count": null,
   "id": "abafdc22",
   "metadata": {},
   "outputs": [],
   "source": [
    "df1 = df1.astype({'Start_Time': 'datetime64[ns]', 'End_Time': 'datetime64[ns]'})\n",
    "df1['Start_Time'].dtypes"
   ]
  },
  {
   "cell_type": "code",
   "execution_count": null,
   "id": "853bdf82",
   "metadata": {},
   "outputs": [],
   "source": [
    "df1['Start_Time'][2408]\n"
   ]
  },
  {
   "cell_type": "code",
   "execution_count": null,
   "id": "1af1fc4a",
   "metadata": {},
   "outputs": [],
   "source": [
    "df1['End_Time'][2408]\n"
   ]
  },
  {
   "cell_type": "code",
   "execution_count": null,
   "id": "52c45efa",
   "metadata": {},
   "outputs": [],
   "source": [
    "df1['start_date'] = [d.date() for d in df1['Start_Time']]\n",
    "df1['start_time'] = [d.time() for d in df1['Start_Time']]"
   ]
  },
  {
   "cell_type": "code",
   "execution_count": null,
   "id": "f4d1f9f6",
   "metadata": {},
   "outputs": [],
   "source": [
    "df1['end_date'] = [d.date() for d in df1['End_Time']]\n",
    "df1['end_time'] = [d.time() for d in df1['End_Time']]"
   ]
  },
  {
   "cell_type": "code",
   "execution_count": null,
   "id": "01ab0b6b",
   "metadata": {},
   "outputs": [],
   "source": [
    "df1['end_time']\n"
   ]
  },
  {
   "cell_type": "code",
   "execution_count": null,
   "id": "08d7b4c0",
   "metadata": {},
   "outputs": [],
   "source": [
    "fig, ax = plt.subplots(figsize=(8,5))\n",
    "sns.histplot(df1['Start_Time'].dt.hour, bins = 24)\n",
    "\n",
    "plt.xlabel(\"Start Time\")\n",
    "plt.ylabel(\"Number of Occurence\")\n",
    "plt.title('Accidents Count By Time of Day')\n",
    "\n",
    "plt.show()"
   ]
  },
  {
   "cell_type": "code",
   "execution_count": null,
   "id": "dd587342",
   "metadata": {},
   "outputs": [],
   "source": [
    "fig, ax = plt.subplots(figsize=(8,5))\n",
    "sns.histplot(df1['Start_Time'].dt.hour, bins = 24)\n",
    "\n",
    "plt.xlabel(\"End_Time\")\n",
    "plt.ylabel(\"Number of Occurence\")\n",
    "plt.title('Accidents Count By Time of Day')\n",
    "\n",
    "plt.show()"
   ]
  },
  {
   "cell_type": "code",
   "execution_count": null,
   "id": "e74f261f",
   "metadata": {},
   "outputs": [],
   "source": [
    "del df1['Start_Time']\n",
    "del df1['End_Time']"
   ]
  },
  {
   "cell_type": "code",
   "execution_count": null,
   "id": "cde3624a",
   "metadata": {},
   "outputs": [],
   "source": [
    "%matplotlib inline\n",
    "import os"
   ]
  },
  {
   "cell_type": "code",
   "execution_count": null,
   "id": "c8f8b78c",
   "metadata": {},
   "outputs": [],
   "source": [
    "fig, ax = plt.subplots(figsize=(8,5))\n",
    "weather_conditions.sort_values(ascending=False)[:20].plot(kind='bar')\n",
    "ax.set(title = 'Weather Conditions at Time of Accident Occurence',\n",
    "       xlabel = 'Weather',\n",
    "       ylabel = 'Accidents Count')\n",
    "plt.show()\n"
   ]
  },
  {
   "cell_type": "code",
   "execution_count": null,
   "id": "219b24c4",
   "metadata": {},
   "outputs": [],
   "source": [
    "df.shape "
   ]
  },
  {
   "cell_type": "code",
   "execution_count": null,
   "id": "2be54b7e",
   "metadata": {},
   "outputs": [],
   "source": [
    "df_num.shape\n"
   ]
  },
  {
   "cell_type": "code",
   "execution_count": null,
   "id": "f3003bb0",
   "metadata": {},
   "outputs": [],
   "source": [
    "df1.groupby('Severity').count()['IDD']"
   ]
  },
  {
   "cell_type": "code",
   "execution_count": null,
   "id": "d50b7471",
   "metadata": {},
   "outputs": [],
   "source": [
    "df_num.plot(kind='scatter', y='Start_Lat', x='Severity')\n"
   ]
  },
  {
   "cell_type": "code",
   "execution_count": null,
   "id": "bfd9bf54",
   "metadata": {},
   "outputs": [],
   "source": [
    "sns.jointplot(x=df_num.Start_Lat.values , y=df_num.Start_Lng.values,height=10)\n",
    "plt.ylabel('Start lattitude', fontsize=12)\n",
    "plt.xlabel('Start lattitude', fontsize=12)\n",
    "plt.show()"
   ]
  },
  {
   "cell_type": "code",
   "execution_count": null,
   "id": "a1af0df3",
   "metadata": {},
   "outputs": [],
   "source": [
    "sns.jointplot(x=df_num.End_Lat.values , y=df_num.End_Lng.values,height=10)\n",
    "plt.ylabel('end lattitude', fontsize=12)\n",
    "plt.xlabel('end longitude', fontsize=12)\n",
    "plt.show()"
   ]
  }
 ],
 "metadata": {
  "kernelspec": {
   "display_name": "Python 3 (ipykernel)",
   "language": "python",
   "name": "python3"
  },
  "language_info": {
   "codemirror_mode": {
    "name": "ipython",
    "version": 3
   },
   "file_extension": ".py",
   "mimetype": "text/x-python",
   "name": "python",
   "nbconvert_exporter": "python",
   "pygments_lexer": "ipython3",
   "version": "3.11.5"
  }
 },
 "nbformat": 4,
 "nbformat_minor": 5
}
